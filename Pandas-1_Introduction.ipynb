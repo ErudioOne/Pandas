{
 "cells": [
  {
   "cell_type": "markdown",
   "metadata": {
    "slideshow": {
     "slide_type": "slide"
    }
   },
   "source": [
    "![Erudio logo](img/erudio-logo-small.png)\n",
    "---\n",
    "![Pandas logo](img/pandas-logo-small.png)"
   ]
  },
  {
   "cell_type": "markdown",
   "metadata": {
    "jp-MarkdownHeadingCollapsed": true
   },
   "source": [
    "# What is Pandas?\n",
    "\n",
    "There are a couple ways of looking at what the large, and widely-used Pandas library is.  \n",
    "\n",
    "From an infrastructure and tool creation point-of-view, Pandas is a layer on top of NumPy that add the crucial concept of \"labeled data.\"  We have some of that with record arrays in NumPy, but Pandas goes much further in that direction.  As well as providing friendlier and more powerful ways of selecting data, Pandas adds a large number of additional functions and methods for various kinds of computations processing data."
   ]
  },
  {
   "cell_type": "markdown",
   "metadata": {},
   "source": [
    "Remember the picture we showed when introducing NumPy of the PyData ecosystem.\n",
    "\n",
    "![NumPy ecosystem](img/numpy-ecosystem.png)"
   ]
  },
  {
   "cell_type": "markdown",
   "metadata": {},
   "source": [
    "Another way of looking at Pandas is in terms of the workflows it typically enables.  Pandas comes with many functions to read different data sources, as well as hooks for visualization of data and presenting aggregate results.  Many data scientists, in particular, spend almost all their work during a day reading, processing, and utilizing Pandas DataFrames.  For a certain kind of expert, nearly every task in their daily work is done within Pandas."
   ]
  },
  {
   "attachments": {},
   "cell_type": "markdown",
   "metadata": {},
   "source": [
    "```{image} img/data.pandas.profit.png\n",
    ":alt: Pandas data profit\n",
    ":width: 75%\n",
    ":align: center\n",
    "```"
   ]
  },
  {
   "cell_type": "code",
   "execution_count": null,
   "metadata": {},
   "outputs": [],
   "source": [
    "%matplotlib inline\n",
    "import numpy as np\n",
    "import pandas as pd\n",
    "import matplotlib.pyplot as plt\n",
    "from src.training import *"
   ]
  },
  {
   "cell_type": "markdown",
   "metadata": {},
   "source": [
    "## Working with Data, Pandas Style\n",
    "\n",
    "The next cells will probably not all make sense at first glance. They utilize a lot of new concepts and APIs related to Pandas that you have not yet been taught.  However, it is useful as an immersion just to see a representation of Pandas capabilities. Later modules will return to each of these areas in much more detail."
   ]
  },
  {
   "cell_type": "markdown",
   "metadata": {},
   "source": [
    "### Reading data\n",
    "\n",
    "Here we will do a number of operations with the same Wisconsin Breast Cancer dataset that was used in exercises for the Advanced NumPy module.  If you did not happen to go through that module, this is a widely used example data set for machine learning and other purposes.  It contains observations of a number of biopsied tumors, some benign, some malignant, with numerous features measured on each one."
   ]
  },
  {
   "cell_type": "code",
   "execution_count": null,
   "metadata": {},
   "outputs": [],
   "source": [
    "# Note that we very often call the \"current DataFrame\" simply `df`\n",
    "cancer = pd.read_csv('data/wisconsin.csv')                     \n",
    "cancer"
   ]
  },
  {
   "cell_type": "markdown",
   "metadata": {},
   "source": [
    "### Summary statistics\n",
    "\n",
    "We can get a quick picture of the data with some general DataFrame methods."
   ]
  },
  {
   "cell_type": "code",
   "execution_count": null,
   "metadata": {},
   "outputs": [],
   "source": [
    "cancer.info()"
   ]
  },
  {
   "cell_type": "code",
   "execution_count": null,
   "metadata": {},
   "outputs": [],
   "source": [
    "cancer.describe()"
   ]
  },
  {
   "cell_type": "code",
   "execution_count": null,
   "metadata": {},
   "outputs": [],
   "source": [
    "cancer[['mean radius', 'mean texture', 'mean perimeter', 'mean area']].skew()"
   ]
  },
  {
   "cell_type": "markdown",
   "metadata": {},
   "source": [
    "### Selections\n",
    "\n",
    "One limitation of Pandas DataFrame versus NumPy arrays is that DataFrames are inherently 2-D.  A Pandas capability called \"hierarchical indexing\" is discussed in later lessons, and provides a way to simulate dimensionality.  But mostly, think of Pandas as giving you 2-D tables."
   ]
  },
  {
   "cell_type": "markdown",
   "metadata": {},
   "source": [
    "Within the 2-D of DataFrames, however, selection of particular data is generally more intuitive and obvious than the equivalent action on a NumPy array."
   ]
  },
  {
   "cell_type": "code",
   "execution_count": null,
   "metadata": {},
   "outputs": [],
   "source": [
    "cancer.loc[cancer['benign?'] == 1, 'worst radius':'worst area']"
   ]
  },
  {
   "cell_type": "markdown",
   "metadata": {},
   "source": [
    "### Grouping data\n",
    "\n",
    "Pandas gives us SQL-like ability to group related data for aggregations"
   ]
  },
  {
   "cell_type": "code",
   "execution_count": null,
   "metadata": {},
   "outputs": [],
   "source": [
    "cancer.groupby('benign?').mean().T  # Transpose is more readable"
   ]
  },
  {
   "cell_type": "code",
   "execution_count": null,
   "metadata": {},
   "outputs": [],
   "source": [
    "def spread(s):\n",
    "    return s.max() - s.min()\n",
    "\n",
    "cancer.groupby('benign?').agg(['mean', 'std', spread])"
   ]
  },
  {
   "cell_type": "markdown",
   "metadata": {},
   "source": [
    "### Plotting\n",
    "\n",
    "Pandas DataFrames have a method `.plot()` (and a few others) that will call out to Matplotlib to create graphs of data within the DataFrames."
   ]
  },
  {
   "cell_type": "code",
   "execution_count": null,
   "metadata": {},
   "outputs": [],
   "source": [
    "cancer['mean radius'].plot(kind='hist', title=\"Histogram of Mean Radius\", bins=15);"
   ]
  },
  {
   "cell_type": "code",
   "execution_count": null,
   "metadata": {},
   "outputs": [],
   "source": [
    "df = cancer.sort_values('mean radius')\n",
    "df.reset_index()"
   ]
  },
  {
   "cell_type": "code",
   "execution_count": null,
   "metadata": {},
   "outputs": [],
   "source": [
    "# Using the Pandas \"fluent style\" to chain operations\n",
    "(cancer\n",
    "     .loc[cancer['benign?'] == 0]\n",
    "     .sort_values('mean perimeter')\n",
    "     .reset_index()\n",
    "     [['mean area', 'worst area']]\n",
    " .plot(title='Area measures of malignant tumors sorted by perimeter')\n",
    ");"
   ]
  },
  {
   "cell_type": "markdown",
   "metadata": {},
   "source": [
    "# Exercises\n",
    "\n",
    "Let us perform some more analysis of the same Wisconsin cancer dataset we have used for demonstration."
   ]
  },
  {
   "cell_type": "markdown",
   "metadata": {},
   "source": [
    "Create graphs similar to those shown above.  But rather than compare visually mean and worst area, according to perimeter, make the same comparison for radii.  Moreover, visualize the data separately for benign versus malignant tumors, and characterize the differences in the patterns you see in your own words."
   ]
  },
  {
   "cell_type": "code",
   "execution_count": null,
   "metadata": {
    "editable": true,
    "slideshow": {
     "slide_type": "fragment"
    },
    "tags": []
   },
   "outputs": [],
   "source": [
    "# Load the data\n",
    "cancer = ...\n",
    "\n",
    "# Visualize patterns\n",
    "...\n",
    "\n",
    "# Describe the pattern\n",
    "pattern = \"\"\"\n",
    "It appears that ...\n",
    "\"\"\""
   ]
  },
  {
   "cell_type": "markdown",
   "metadata": {},
   "source": [
    "---\n",
    "\n",
    "Of those observations that have a larger than median value of \"mean radius\", what is the mean and standard deviation of their \"concavity error\"? \n",
    "\n",
    "Answers: \n",
    "* mean=0.036131897\n",
    "* stddev=0.02302538"
   ]
  },
  {
   "cell_type": "code",
   "execution_count": null,
   "metadata": {
    "editable": true,
    "slideshow": {
     "slide_type": ""
    },
    "tags": []
   },
   "outputs": [],
   "source": [
    "# Mean/standard deviation of high median mean radius\n",
    "..."
   ]
  },
  {
   "cell_type": "markdown",
   "metadata": {},
   "source": [
    "Among the benign tumors, what is the correlation coefficient between \"mean symmetry\" and \"mean fractal dimension\" (i.e. Pearson product-moment correlation coefficient). \n",
    "\n",
    "Answer: \n",
    "* coefficient=0.41905971"
   ]
  },
  {
   "cell_type": "code",
   "execution_count": null,
   "metadata": {},
   "outputs": [],
   "source": [
    "# Correlation coefficient between mean symmetry and mean fractal dimension\n",
    "..."
   ]
  },
  {
   "cell_type": "markdown",
   "metadata": {},
   "source": [
    "Which feature in the data shows the highest magnitude variance? \n",
    "\n",
    "Answer: worst area"
   ]
  },
  {
   "cell_type": "code",
   "execution_count": null,
   "metadata": {},
   "outputs": [],
   "source": [
    "# Feature with highest variance\n",
    "..."
   ]
  },
  {
   "cell_type": "markdown",
   "metadata": {},
   "source": [
    "Ignoring the target, which feature shows the highest normalized standard deviation? I.e. standard deviation as a percentage of the entire value range of that feature.\n",
    "\n",
    "Answer: worst concave points"
   ]
  },
  {
   "cell_type": "code",
   "execution_count": null,
   "metadata": {},
   "outputs": [],
   "source": [
    "# Highest normalized standard deviation\n",
    "..."
   ]
  },
  {
   "cell_type": "markdown",
   "metadata": {},
   "source": [
    "\n",
    "---\n",
    "\n",
    "Materials licensed under [CC BY-NC-ND 4.0](https://creativecommons.org/licenses/by-nc-nd/4.0/) by the authors"
   ]
  }
 ],
 "metadata": {
  "kernelspec": {
   "display_name": "Python 3 (ipykernel)",
   "language": "python",
   "name": "python3"
  },
  "language_info": {
   "codemirror_mode": {
    "name": "ipython",
    "version": 3
   },
   "file_extension": ".py",
   "mimetype": "text/x-python",
   "name": "python",
   "nbconvert_exporter": "python",
   "pygments_lexer": "ipython3",
   "version": "3.12.1"
  },
  "widgets": {
   "application/vnd.jupyter.widget-state+json": {
    "state": {},
    "version_major": 2,
    "version_minor": 0
   }
  }
 },
 "nbformat": 4,
 "nbformat_minor": 4
}
