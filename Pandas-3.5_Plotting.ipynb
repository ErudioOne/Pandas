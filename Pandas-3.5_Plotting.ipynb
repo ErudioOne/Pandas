{
 "cells": [
  {
   "cell_type": "markdown",
   "id": "0b8d15cd-2a16-4b74-8dcd-879e45ec1795",
   "metadata": {
    "slideshow": {
     "slide_type": "slide"
    }
   },
   "source": [
    "![Erudio logo](img/erudio-logo-small.png)\n",
    "---\n",
    "![Pandas logo](img/pandas-logo-small.png)"
   ]
  },
  {
   "cell_type": "markdown",
   "id": "2a927d32-93a5-4cce-bd46-5e345fd99acc",
   "metadata": {},
   "source": [
    "# Basic plots\n",
    "\n",
    "The introduction to Pandas showed a couple simple plots.  Let's look at a few others as well. More advanced plotting will be discussed in the lessons on Matplotlib.\n"
   ]
  },
  {
   "cell_type": "code",
   "execution_count": null,
   "id": "7b7534f9-c20b-499c-b24a-16e9fceee27e",
   "metadata": {},
   "outputs": [],
   "source": [
    "%matplotlib inline\n",
    "import numpy as np\n",
    "import pandas as pd\n",
    "import matplotlib.pyplot as plt\n",
    "from src.training import *"
   ]
  },
  {
   "cell_type": "code",
   "execution_count": null,
   "id": "804b7409-60b9-49c1-b72e-bb7077d53059",
   "metadata": {},
   "outputs": [],
   "source": [
    "cancer = pd.read_csv('data/wisconsin.csv')            \n",
    "cancer"
   ]
  },
  {
   "cell_type": "markdown",
   "id": "045456d9-13d1-4399-8966-22b60ac68a7e",
   "metadata": {},
   "source": [
    "## Histograms"
   ]
  },
  {
   "cell_type": "code",
   "execution_count": null,
   "id": "f650291c-c85f-4486-8da5-f06baad1ca6d",
   "metadata": {},
   "outputs": [],
   "source": [
    "cancer['mean area'].plot(kind='hist', title=\"Histogram of Mean Area\", bins=15);"
   ]
  },
  {
   "cell_type": "markdown",
   "id": "e4072764-fd94-4066-9b8a-0e73acc3909c",
   "metadata": {},
   "source": [
    "## Bar charts\n",
    "\n",
    "Basic bar charts are simple in Pandas.  To fine tune the results (such as using dual-Y axes), you need to utilize the underlying Matplotlib capabilities outside of Pandas itself."
   ]
  },
  {
   "cell_type": "code",
   "execution_count": null,
   "id": "d805998e-21d0-4d37-840e-749f7a441453",
   "metadata": {},
   "outputs": [],
   "source": [
    "(cancer.loc[:19, [\"mean perimeter\", \"mean radius\"]]\n",
    "     .plot(kind=\"bar\", title=\"Attributes for 20 patients\")\n",
    ");"
   ]
  },
  {
   "cell_type": "code",
   "execution_count": null,
   "id": "fc1d8e43-00e1-45ef-8ea4-d5b88ffeb9fc",
   "metadata": {},
   "outputs": [],
   "source": [
    "(cancer.loc[:19, [\"mean perimeter\", \"mean radius\"]]\n",
    "     .plot(kind=\"bar\", title=\"Attributes for 20 patients\",\n",
    "           subplots=True)\n",
    ");"
   ]
  },
  {
   "cell_type": "markdown",
   "id": "bf14e942-493c-4edb-835e-9c32b6e75f55",
   "metadata": {},
   "source": [
    "## Scatter plots"
   ]
  },
  {
   "cell_type": "code",
   "execution_count": null,
   "id": "631fb31c-576f-451b-ad9a-eec6d55b50b3",
   "metadata": {},
   "outputs": [],
   "source": [
    "cancer.plot(\n",
    "    kind=\"scatter\", \n",
    "    x=\"mean radius\", \n",
    "    y=\"mean smoothness\",\n",
    "    title=\"Comparing mean radius to mean smoothness\",\n",
    ");"
   ]
  },
  {
   "cell_type": "code",
   "execution_count": null,
   "id": "ffcc11bf-921b-47dc-aa93-314ae5b81c3c",
   "metadata": {},
   "outputs": [],
   "source": [
    "cancer.plot(\n",
    "    kind=\"scatter\", \n",
    "    x=\"mean radius\", \n",
    "    y=\"mean smoothness\",\n",
    "    title=\"Comparing mean radius to mean smoothness\",\n",
    "    s=3,  # marker size smaller than default\n",
    "    color=\"red\"\n",
    ");"
   ]
  },
  {
   "cell_type": "markdown",
   "id": "6f13e00d-4e0c-43a5-834d-5da2e2d9e01c",
   "metadata": {},
   "source": [
    "### Hex binning\n",
    "\n",
    "In this example and resolution, the default hexagons are largely just scatter points."
   ]
  },
  {
   "cell_type": "code",
   "execution_count": null,
   "id": "74c00b33-a6ae-47ce-9765-ee0059b861bb",
   "metadata": {},
   "outputs": [],
   "source": [
    "cancer.plot(\n",
    "    kind=\"hexbin\", \n",
    "    x=\"mean radius\", \n",
    "    y=\"mean smoothness\",\n",
    "    title=\"Comparing mean radius to mean smoothness\",\n",
    ");"
   ]
  },
  {
   "cell_type": "markdown",
   "id": "87748dae-12fb-4b40-95e2-eff6a63d7778",
   "metadata": {},
   "source": [
    "By using a somewhat coarser grid, we can see meaningful distinctions among regions."
   ]
  },
  {
   "cell_type": "code",
   "execution_count": null,
   "id": "780e5b64-70a1-4f18-bd1c-c1c7f55a5b22",
   "metadata": {},
   "outputs": [],
   "source": [
    "cancer.plot(\n",
    "    kind=\"hexbin\", \n",
    "    x=\"mean radius\", \n",
    "    y=\"mean smoothness\",\n",
    "    title=\"Comparing mean radius to mean smoothness\",\n",
    "    gridsize=8);"
   ]
  },
  {
   "cell_type": "markdown",
   "id": "39ce650f-76aa-450f-83f2-bd42cabbad22",
   "metadata": {},
   "source": [
    "An alternate spelling of most kinds of plots is with methods named after the kind, e.g.:"
   ]
  },
  {
   "cell_type": "code",
   "execution_count": null,
   "id": "870b5fe6-899a-4d7a-9ceb-7bbf69e756b7",
   "metadata": {},
   "outputs": [],
   "source": [
    "cancer.plot.hexbin(\n",
    "    x=\"mean radius\",\n",
    "    y=\"mean smoothness\",\n",
    "    title=\"Comparing mean radius to mean smoothness\",\n",
    "    gridsize=15\n",
    ");"
   ]
  },
  {
   "cell_type": "markdown",
   "id": "07e9fdaa-c3ce-41e0-9212-b2aa330d563a",
   "metadata": {},
   "source": [
    "## Statistical distributions\n",
    "\n",
    "Box plots are a quick way to visualize distributions of features.  If the additional module `scipy` is installed, some additional plots such as KDEs are available."
   ]
  },
  {
   "cell_type": "code",
   "execution_count": null,
   "id": "037b4f4e-1ef8-4671-865a-552f8a7b7203",
   "metadata": {},
   "outputs": [],
   "source": [
    "# Find a few features with similar numeric size\n",
    "m = cancer.mean()\n",
    "m[(m > 10) & (m < 20)]"
   ]
  },
  {
   "cell_type": "code",
   "execution_count": null,
   "id": "34e0a3cd-3bdb-46c1-ac5d-6629e5677b66",
   "metadata": {},
   "outputs": [],
   "source": [
    "cancer[[\"mean radius\", \"mean texture\", \"mean radius\"]].boxplot();"
   ]
  },
  {
   "cell_type": "markdown",
   "id": "89fce28c-9af8-4b29-9ea3-88c8d1d9a414",
   "metadata": {},
   "source": [
    "\n",
    "---\n",
    "\n",
    "Materials licensed under [CC BY-NC-ND 4.0](https://creativecommons.org/licenses/by-nc-nd/4.0/) by the authors"
   ]
  }
 ],
 "metadata": {
  "kernelspec": {
   "display_name": "Python 3 (ipykernel)",
   "language": "python",
   "name": "python3"
  },
  "language_info": {
   "codemirror_mode": {
    "name": "ipython",
    "version": 3
   },
   "file_extension": ".py",
   "mimetype": "text/x-python",
   "name": "python",
   "nbconvert_exporter": "python",
   "pygments_lexer": "ipython3",
   "version": "3.12.1"
  },
  "widgets": {
   "application/vnd.jupyter.widget-state+json": {
    "state": {},
    "version_major": 2,
    "version_minor": 0
   }
  }
 },
 "nbformat": 4,
 "nbformat_minor": 5
}
