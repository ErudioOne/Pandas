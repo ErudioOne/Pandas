{
 "cells": [
  {
   "cell_type": "markdown",
   "metadata": {
    "slideshow": {
     "slide_type": "slide"
    }
   },
   "source": [
    "![Pandas logo](img/pandas.svg)"
   ]
  },
  {
   "cell_type": "code",
   "execution_count": null,
   "metadata": {},
   "outputs": [],
   "source": [
    "%matplotlib inline\n",
    "import numpy as np\n",
    "import pandas as pd\n",
    "import matplotlib.pyplot as plt\n",
    "from src.training import *"
   ]
  },
  {
   "cell_type": "markdown",
   "metadata": {},
   "source": [
    "# Groupby Operations\n",
    "\n",
    "A powerful way of analyzing data in DataFrames is to use the `.groupby()` method, and perform operations on the resulting `DataFrameGroupBy` object."
   ]
  },
  {
   "cell_type": "markdown",
   "metadata": {},
   "source": [
    "For several examples, we will load a slightly enhanced version of the Olympic medal data we worked with before.  In this case, the medal categories have been combined in one DataFrame, and some additional categorical data has been added."
   ]
  },
  {
   "cell_type": "markdown",
   "metadata": {},
   "source": [
    "We are not entirely pleased with the continent classifications, with the Carribean called North America, for example, but most countries are classified.  This data spans years covering a number of changes in names and territorial boundaries of countries, so it is messy in much the way most data is."
   ]
  },
  {
   "cell_type": "code",
   "execution_count": null,
   "metadata": {},
   "outputs": [],
   "source": [
    "medals = pd.read_csv('data/olympic-medals.csv', index_col='Name')\n",
    "medals"
   ]
  },
  {
   "cell_type": "markdown",
   "metadata": {},
   "source": [
    "Let us take a look at what continents and \"levels\" exist for this purpose."
   ]
  },
  {
   "cell_type": "code",
   "execution_count": null,
   "metadata": {},
   "outputs": [],
   "source": [
    "print(medals.Continent.unique())\n",
    "print(medals.Level.unique())"
   ]
  },
  {
   "cell_type": "markdown",
   "metadata": {},
   "source": [
    "## What Do Like Things Have in Common?\n",
    "\n",
    "The basic question grouping answers—in Pandas and in SQL whence the concept is borrowed—is what properties pertain to items that are categorically similar.  Grouping does not really make sense for continuous quantities; but it often does for scales divided by thresholds (as we do with 'Level' here)."
   ]
  },
  {
   "cell_type": "code",
   "execution_count": null,
   "metadata": {},
   "outputs": [],
   "source": [
    "group = medals.groupby('Level')\n",
    "print(group)\n",
    "group[[\"Gold\", \"Silver\", \"Bronze\", \"Total\"]].mean()"
   ]
  },
  {
   "cell_type": "markdown",
   "metadata": {},
   "source": [
    "We can see the different \"typical of achievement group\" numbers of medals.  This would look better if the index was sorted more descriptively."
   ]
  },
  {
   "cell_type": "code",
   "execution_count": null,
   "metadata": {},
   "outputs": [],
   "source": [
    "(medals\n",
    "     .groupby('Level')\n",
    "     [[\"Gold\", \"Silver\", \"Bronze\", \"Total\"]]\n",
    "     .mean()\n",
    "     .sort_values('Total', ascending=False)\n",
    ")"
   ]
  },
  {
   "cell_type": "markdown",
   "metadata": {},
   "source": [
    "How many nations fall in each group?"
   ]
  },
  {
   "cell_type": "code",
   "execution_count": null,
   "metadata": {},
   "outputs": [],
   "source": [
    "medals.groupby('Level').Total.count().sort_values()"
   ]
  },
  {
   "cell_type": "markdown",
   "metadata": {},
   "source": [
    "The different achievement levels for nations was set by thresholds.  Let us try to reconstruct what those thresholds were."
   ]
  },
  {
   "cell_type": "code",
   "execution_count": null,
   "metadata": {},
   "outputs": [],
   "source": [
    "medals.groupby('Level').Total.min()"
   ]
  },
  {
   "cell_type": "code",
   "execution_count": null,
   "metadata": {},
   "outputs": [],
   "source": [
    "medals.groupby('Level').Total.max()"
   ]
  },
  {
   "cell_type": "markdown",
   "metadata": {},
   "source": [
    "## Multiple Aggregations\n",
    "\n",
    "We got a sense of the thresholds by looking at minimum and maximum, but the presentation is not that convenient.  Moreover, it is less easy to work with later as separate DataFrames or Series representing a single aggregation."
   ]
  },
  {
   "cell_type": "code",
   "execution_count": null,
   "metadata": {},
   "outputs": [],
   "source": [
    "(medals\n",
    "     .groupby('Level')\n",
    "     [[\"Gold\", \"Silver\", \"Bronze\", \"Total\"]]\n",
    "     .agg(['min', 'max', 'mean'])\n",
    ")"
   ]
  },
  {
   "cell_type": "markdown",
   "metadata": {},
   "source": [
    "The thresholds were set, as it happens, using total medals rather than one category. We can focus on that."
   ]
  },
  {
   "cell_type": "code",
   "execution_count": null,
   "metadata": {},
   "outputs": [],
   "source": [
    "# Notice that some common aggregations have names\n",
    "# ... but we can also pass in an arbitrary ufunc\n",
    "(medals\n",
    "     .groupby('Level')\n",
    "     .Total\n",
    "     .agg(['min', 'max', 'mean', np.std])\n",
    "     .sort_values('min')\n",
    ")"
   ]
  },
  {
   "cell_type": "markdown",
   "metadata": {},
   "source": [
    "## Nested Grouping\n",
    "\n",
    "We might be interested in the combination of multiple categorical fields.  Notice that the levels are based on total medals."
   ]
  },
  {
   "cell_type": "code",
   "execution_count": null,
   "metadata": {},
   "outputs": [],
   "source": [
    "with show_all_rows():\n",
    "    print(medals.groupby(['Level', 'Continent']).max())"
   ]
  },
  {
   "cell_type": "markdown",
   "metadata": {},
   "source": [
    "We can combine several aggregations, and include a novel one: `list`.  That is, simply the Python function list.  Let us look at all the different Gold medal counts per each country within each nested group.  Also we simultaenously find the median of the group and a count of how many countries make up each group."
   ]
  },
  {
   "cell_type": "code",
   "execution_count": null,
   "metadata": {},
   "outputs": [],
   "source": [
    "medals.groupby(['Level', 'Continent']).Gold.agg(['count', 'median', 'max', list])"
   ]
  },
  {
   "cell_type": "markdown",
   "metadata": {},
   "source": [
    "Which country within each nested group was the one that actually won that highest number of Gold medals?  `.idxmax()` is an interesting aggregation that gives you the actual index of the item matching the maximum.  More advanced users of NumPy will know `.argmax()` and `.argsort()` which work similarly."
   ]
  },
  {
   "cell_type": "code",
   "execution_count": null,
   "metadata": {},
   "outputs": [],
   "source": [
    "medals.groupby(['Level', 'Continent']).Gold.idxmax()"
   ]
  },
  {
   "cell_type": "code",
   "execution_count": null,
   "metadata": {},
   "outputs": [],
   "source": [
    "medals.groupby(['Level', 'Continent']).Gold.agg(['idxmax', 'max'])"
   ]
  },
  {
   "cell_type": "markdown",
   "metadata": {},
   "source": [
    "## Group By Derived Feature\n",
    "\n",
    "The categorical distinction Pandas can group by does not need to be an actual column.  It could potentially be something that can be calculated from a column, or even from the index."
   ]
  },
  {
   "cell_type": "markdown",
   "metadata": {},
   "source": [
    "This is a bit silly as a practical need, but let us group countries by the last letter of their name, just to illustrate.  There were 6545 medals won by countries whose name ends in 'a'."
   ]
  },
  {
   "cell_type": "code",
   "execution_count": null,
   "metadata": {},
   "outputs": [],
   "source": [
    "medals.groupby(medals.index.str[-1]).Total.sum()"
   ]
  },
  {
   "cell_type": "markdown",
   "metadata": {},
   "source": [
    "A bit more plausibly, and similar to the operation done in advance to derive `Level`, we can look at the logarithm of the Gold medal count to get a modest number of categories.  We add one to the count because we cannot take the log of zero."
   ]
  },
  {
   "cell_type": "code",
   "execution_count": null,
   "metadata": {},
   "outputs": [],
   "source": [
    "grouper = medals.groupby(np.log(medals.Gold + 1).astype(int))\n",
    "grouper.Gold.agg([\"count\", \"min\", \"max\"])"
   ]
  },
  {
   "cell_type": "markdown",
   "metadata": {},
   "source": [
    "# Exercises\n",
    "\n",
    "For these exercises, we will again work with our NOAA temperature dataset in the large version.  We will derive some categorical features.  The last section of this module that looked at derived features will be relevant."
   ]
  },
  {
   "cell_type": "markdown",
   "metadata": {},
   "source": [
    "Just as a suggestion, you may find it easier to derive a feature and place that derived value in a new column to work with.  Generally, Pandas will always give you ways to achieve the goal without that intermediate step.  However, the \"fluent style\" of Pandas that chain many methods can become confusing quickly to beginners.  Saving intermediate results in new objects or in new columns is fine."
   ]
  },
  {
   "cell_type": "code",
   "execution_count": null,
   "metadata": {},
   "outputs": [],
   "source": [
    "# For exercises, we probably want to look at more rows in results\n",
    "pd.options.display.max_rows = 50\n",
    "url = (\"https://bitbucket.org/davidmertz/sample-data/raw/\"\n",
    "       \"61872271984f66e3094c367cf90dfc4875a22e8d/NOAA-2019-partial.csv.gz\")\n",
    "temperatures = pd.read_csv(url)\n",
    "temperatures['DATE'] = pd.to_datetime(temperatures.DATE, format=\"%Y-%m-%d\")"
   ]
  },
  {
   "cell_type": "code",
   "execution_count": null,
   "metadata": {},
   "outputs": [],
   "source": [
    "temperatures.columns"
   ]
  },
  {
   "cell_type": "markdown",
   "metadata": {},
   "source": [
    "You may have noticed that the data in this dataset is predominantly from stations in northern latitudes.  That does not reflect a limitation of NOAA's data collection, but simply the numbering system they use for download files.  In putting together the sample data for this course, we only downloaded files whose names begin with the numeral '0' (then aggregated them for the dataset you have worked with)."
   ]
  },
  {
   "cell_type": "markdown",
   "metadata": {},
   "source": [
    "### Clean the Data\n",
    "\n",
    "First step, remove all the latitudes south of 40°N.  This is a relatively small number of rows, as described above."
   ]
  },
  {
   "cell_type": "code",
   "execution_count": null,
   "metadata": {},
   "outputs": [],
   "source": [
    "# Remove data outside northern circumference\n",
    "..."
   ]
  },
  {
   "cell_type": "markdown",
   "metadata": {},
   "source": [
    "### Create Categorical Data\n",
    "\n",
    "We would like to divide the data between 40°N and 90°N into latitude bands of 10 degrees.  Save those band memberships in a new column called `Latitude_Band`.  You may use either a string or a number to represent the bands, the point is simply to have a small number of them rather than a continuous range."
   ]
  },
  {
   "cell_type": "code",
   "execution_count": null,
   "metadata": {},
   "outputs": [],
   "source": [
    "# Make latitude categorical\n",
    "..."
   ]
  },
  {
   "cell_type": "markdown",
   "metadata": {},
   "source": [
    "We would also like to create a new categorical column called `Month` that represents which month of the year a measurement was in.  Ideally, store the string name of the month in that column, but an integer is acceptable."
   ]
  },
  {
   "cell_type": "code",
   "execution_count": null,
   "metadata": {},
   "outputs": [],
   "source": [
    "# Make month categorical\n",
    "..."
   ]
  },
  {
   "cell_type": "markdown",
   "metadata": {},
   "source": [
    "One more categorical to go.  We would like to divide elevation into bands, similarly to what you did with latitude.  However, elevations are clustered at lower numbers, so we wish to create `Elevation_Band` based on the log base-10 of the raw elevation. I.e. it will be in 5 bands with minima of 0, 1, 10, 100, 1000."
   ]
  },
  {
   "cell_type": "markdown",
   "metadata": {},
   "source": [
    "**Note**: Actually there is a trick here! A few of the stations are below sea level and have negative elevations.  Let us make those be a separate category also."
   ]
  },
  {
   "cell_type": "markdown",
   "metadata": {},
   "source": [
    "## Group and Aggregate\n",
    "\n",
    "We would like to look at the following:\n",
    "\n",
    "* Mean temperature, windspeed, and precipiation, simply by month.\n",
    "* Mean and maximum temperature, windspeed, and precipitation by month and latitude band.\n",
    "* Think also about what you read at [Global Surface Summary of the Day](https://data.nodc.noaa.gov/cgi-bin/iso?id=gov.noaa.ncdc:C00516) in deciding the most appropriate data fields to use.\n",
    "* Minimum and maximum temperature and atmospheric pressure by month, latitude band, and elevation band.\n",
    "* The total variability of temperatures within each particular month, latitude band, and elevation band group.  Again think about choosing the best featuers to answer this."
   ]
  },
  {
   "cell_type": "code",
   "execution_count": null,
   "metadata": {},
   "outputs": [],
   "source": [
    "# Aggregate numerous quanities by various categoricals\n",
    "..."
   ]
  }
 ],
 "metadata": {
  "kernelspec": {
   "display_name": "Python 3 (ipykernel)",
   "language": "python",
   "name": "python3"
  },
  "language_info": {
   "codemirror_mode": {
    "name": "ipython",
    "version": 3
   },
   "file_extension": ".py",
   "mimetype": "text/x-python",
   "name": "python",
   "nbconvert_exporter": "python",
   "pygments_lexer": "ipython3",
   "version": "3.10.13"
  },
  "widgets": {
   "application/vnd.jupyter.widget-state+json": {
    "state": {},
    "version_major": 2,
    "version_minor": 0
   }
  }
 },
 "nbformat": 4,
 "nbformat_minor": 4
}
